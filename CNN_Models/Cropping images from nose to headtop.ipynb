{
 "cells": [
  {
   "cell_type": "code",
   "execution_count": 1,
   "id": "d6ca1074",
   "metadata": {},
   "outputs": [],
   "source": [
    "import asyncio\n",
    "import io\n",
    "import glob\n",
    "import os\n",
    "import sys\n",
    "import dlib\n",
    "import time\n",
    "import uuid\n",
    "import requests\n",
    "from pylab import *\n",
    "import cv2 as cv\n",
    "import numpy as np\n",
    "import pandas as pd\n",
    "from urllib.parse import urlparse\n",
    "from io import BytesIO\n",
    "from PIL import Image, ImageDraw\n",
    "%matplotlib inline"
   ]
  },
  {
   "cell_type": "code",
   "execution_count": 2,
   "id": "e84a3706",
   "metadata": {},
   "outputs": [],
   "source": [
    "# Initialize dlib's shape predictor\n",
    "p = \"C:\\\\Users\\\\nidhimh\\\\Documents\\\\Alignment\\\\shape_predictor_68_face_landmarks.dat\""
   ]
  },
  {
   "cell_type": "code",
   "execution_count": 4,
   "id": "aca58404",
   "metadata": {},
   "outputs": [],
   "source": [
    "for image_path in glob.iglob(\"C:\\\\Users\\\\nidhimh\\\\Documents\\\\Occlusion\\\\occludedornot\\\\smol\\\\*.jpg\"):\n",
    "    image_path = str(image_path)\n",
    "    filename = os.path.basename(image_path)\n",
    "    \n",
    "    # Initialise dlib\n",
    "    predictor = dlib.shape_predictor(p)\n",
    "    detector = dlib.get_frontal_face_detector()\n",
    "    \n",
    "    # Load image\n",
    "    image = cv.imread(image_path)\n",
    "    gray = cv.cvtColor(image, cv.COLOR_BGR2GRAY)\n",
    "    height = np.size(image, 0)\n",
    "    width = np.size(image, 1)\n",
    "    \n",
    "    # Detect image and facial landmarks\n",
    "    faces = detector(gray)\n",
    "    for face in faces:\n",
    "        landmarks=predictor(gray, face)\n",
    "        \n",
    "    # Retrieve relevant landmarks\n",
    "    leftjaw = landmarks.part(0).x\n",
    "    rightjaw = landmarks.part(16).x\n",
    "    topbrow = max(landmarks.part(17).y, landmarks.part(18).y, landmarks.part(19).y, landmarks.part(20).y, landmarks.part(21).y, landmarks.part(22).y, landmarks.part(23).y, landmarks.part(24).y, landmarks.part(25).y, landmarks.part(26).y) *4/5\n",
    "    midnose = landmarks.part(29).y\n",
    "    \n",
    "    # Crop image\n",
    "    im = Image.open(image_path)\n",
    "    crop_img = im.crop((leftjaw, topbrow, rightjaw, midnose))\n",
    "    crop_img.save(filename)"
   ]
  },
  {
   "cell_type": "code",
   "execution_count": null,
   "id": "cd973ec6",
   "metadata": {},
   "outputs": [],
   "source": []
  }
 ],
 "metadata": {
  "kernelspec": {
   "display_name": "Python 3",
   "language": "python",
   "name": "python3"
  },
  "language_info": {
   "codemirror_mode": {
    "name": "ipython",
    "version": 3
   },
   "file_extension": ".py",
   "mimetype": "text/x-python",
   "name": "python",
   "nbconvert_exporter": "python",
   "pygments_lexer": "ipython3",
   "version": "3.6.13"
  }
 },
 "nbformat": 4,
 "nbformat_minor": 5
}
