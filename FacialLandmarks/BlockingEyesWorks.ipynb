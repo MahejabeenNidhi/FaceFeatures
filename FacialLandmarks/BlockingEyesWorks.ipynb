{
 "cells": [
  {
   "cell_type": "code",
   "execution_count": 1,
   "id": "b6fec373",
   "metadata": {},
   "outputs": [],
   "source": [
    "import asyncio\n",
    "import io\n",
    "import glob\n",
    "import os\n",
    "import sys\n",
    "import dlib\n",
    "import time\n",
    "import math\n",
    "import uuid\n",
    "import requests\n",
    "from pylab import *\n",
    "import cv2 as cv\n",
    "import numpy as np\n",
    "import pandas as pd\n",
    "import PySimpleGUI as sg\n",
    "from itertools import permutations\n",
    "from urllib.parse import urlparse\n",
    "from io import BytesIO\n",
    "from PIL import Image, ImageDraw\n",
    "import matplotlib.pyplot as plt\n",
    "from skimage.draw import line, polygon, circle, ellipse"
   ]
  },
  {
   "cell_type": "code",
   "execution_count": 253,
   "id": "1a604b32",
   "metadata": {},
   "outputs": [],
   "source": [
    "    # Initialize dlib's shape predictor\n",
    "    p = \"shape_predictor_68_face_landmarks.dat\"\n",
    "    predictor = dlib.shape_predictor(p)\n",
    "    # Initialize dlib's face detector\n",
    "    detector = dlib.get_frontal_face_detector()\n",
    "    \n",
    "    glareState = 'No Glare'\n",
    "    \n",
    "    # Load image\n",
    "    image = cv.imread('12.jpg')\n",
    "    gray = cv.cvtColor(image, cv.COLOR_BGR2GRAY)\n",
    "    height = np.size(image, 0)\n",
    "    width = np.size(image, 1)\n",
    "    \n",
    "    # Detect image and facial landmarks\n",
    "    faces = detector(gray)\n",
    "    for face in faces:\n",
    "        landmarks=predictor(gray, face)\n",
    "        \n",
    "    # Retrieve relevant landmarks\n",
    "    leftjaw = landmarks.part(3).x\n",
    "    rightjaw = landmarks.part(13).x\n",
    "    topbrow = max(landmarks.part(17).y, landmarks.part(18).y, landmarks.part(19).y, landmarks.part(20).y, landmarks.part(21).y, landmarks.part(22).y, landmarks.part(23).y, landmarks.part(24).y, landmarks.part(25).y, landmarks.part(26).y)\n",
    "    forehead = topbrow * 0.65\n",
    "    nose = landmarks.part(30).y\n",
    "    \n",
    "    # Retrieve left eye landmarks\n",
    "    point37 = [landmarks.part(36).x, landmarks.part(36).y]\n",
    "    point38 = [landmarks.part(37).x, landmarks.part(37).y]\n",
    "    point39 = [landmarks.part(38).x, landmarks.part(38).y]\n",
    "    point40 = [landmarks.part(39).x, landmarks.part(39).y]\n",
    "    point41 = [landmarks.part(40).x, landmarks.part(40).y]\n",
    "    point42 = [landmarks.part(41).x, landmarks.part(41).y]\n",
    "    \n",
    "    # Retrieve right eye landmarks\n",
    "    point43 = [landmarks.part(42).x, landmarks.part(42).y]\n",
    "    point44 = [landmarks.part(43).x, landmarks.part(43).y]\n",
    "    point45 = [landmarks.part(44).x, landmarks.part(44).y]\n",
    "    point46 = [landmarks.part(45).x, landmarks.part(45).y]\n",
    "    point47 = [landmarks.part(46).x, landmarks.part(46).y]\n",
    "    point48 = [landmarks.part(47).x, landmarks.part(47).y]\n",
    "    \n",
    "    # Retrieve left eye brow \n",
    "#    point18 = [landmarks.part().x, landmarks.part().y]\n",
    "    \n",
    "    # Crop image\n",
    "#    im = Image.open('6.jpg')\n",
    "#    crop_img = im.crop((leftjaw, forehead, rightjaw, nose))\n",
    "#    crop_img.save('temp.jpg')\n",
    "    \n",
    "#    croppedblocked = cv.imread('temp.jpg')\n",
    "    \n",
    "    "
   ]
  },
  {
   "cell_type": "code",
   "execution_count": 254,
   "id": "4925a7c7",
   "metadata": {},
   "outputs": [],
   "source": [
    "lefteyepts = np.array((point37, point38, point39, point40, point41, point42), np.int32)"
   ]
  },
  {
   "cell_type": "code",
   "execution_count": 255,
   "id": "f97857c9",
   "metadata": {},
   "outputs": [],
   "source": [
    "righteyepts = np.array((point43, point44, point45, point46, point47, point48), np.int32)"
   ]
  },
  {
   "cell_type": "code",
   "execution_count": 256,
   "id": "5cec2bde",
   "metadata": {},
   "outputs": [],
   "source": [
    "lefteyepts = lefteyepts.reshape((-1,1,2))"
   ]
  },
  {
   "cell_type": "code",
   "execution_count": 257,
   "id": "642673b3",
   "metadata": {},
   "outputs": [],
   "source": [
    "righteyepts = righteyepts.reshape((-1,1,2))"
   ]
  },
  {
   "cell_type": "code",
   "execution_count": 258,
   "id": "1371a8c6",
   "metadata": {},
   "outputs": [],
   "source": [
    "cv.fillPoly(image, [lefteyepts], (127, 127, 127), 8);"
   ]
  },
  {
   "cell_type": "code",
   "execution_count": 259,
   "id": "acd17aeb",
   "metadata": {},
   "outputs": [],
   "source": [
    "cv.fillPoly(image, [righteyepts], (127, 127, 127), 8);"
   ]
  },
  {
   "cell_type": "code",
   "execution_count": 260,
   "id": "6fb1ed2b",
   "metadata": {},
   "outputs": [
    {
     "data": {
      "text/plain": [
       "True"
      ]
     },
     "execution_count": 260,
     "metadata": {},
     "output_type": "execute_result"
    }
   ],
   "source": [
    "cv.imwrite('blocked.jpg', image)"
   ]
  },
  {
   "cell_type": "code",
   "execution_count": 261,
   "id": "7e84a90b",
   "metadata": {},
   "outputs": [],
   "source": [
    "im = Image.open('blocked.jpg')\n",
    "crop_img = im.crop((leftjaw, forehead, rightjaw, nose))\n",
    "crop_img.save('croppedblocked.jpg')"
   ]
  },
  {
   "cell_type": "code",
   "execution_count": 262,
   "id": "4057a7ef",
   "metadata": {},
   "outputs": [],
   "source": [
    "    img = cv.imread(\"croppedblocked.jpg\")\n",
    "    Y = cv.cvtColor(img, cv.COLOR_BGR2YUV)[:,:,0]\n",
    "\n",
    "    # compute min and max of Y\n",
    "    mini = max(np.min(Y), 0)\n",
    "    maxi = np.max(Y)\n",
    "\n",
    "    # compute contrast\n",
    "    nume = maxi - mini\n",
    "    denom = int(maxi) + int(mini)\n",
    "    contrast = nume/denom\n",
    "    \n",
    "    if contrast>0.85:\n",
    "        glareState = 'Glare Present'\n",
    "        \n",
    "    # use HSV\n",
    "    h, s, v = cv.split(cv.cvtColor(img, cv.COLOR_RGB2HSV))\n",
    "    intensity = v/255\n",
    "    saturation = s/255\n",
    "    \n",
    "    glarescore = contrast * intensity.max() * (1 - saturation.mean())\n",
    "    \n",
    "    if glarescore > 0.5:\n",
    "        glareState = 'glare Present'"
   ]
  },
  {
   "cell_type": "code",
   "execution_count": 263,
   "id": "e646a5f9",
   "metadata": {},
   "outputs": [
    {
     "data": {
      "text/plain": [
       "0.6228791024127631"
      ]
     },
     "execution_count": 263,
     "metadata": {},
     "output_type": "execute_result"
    }
   ],
   "source": [
    "glarescore"
   ]
  },
  {
   "cell_type": "code",
   "execution_count": 264,
   "id": "a2f1592e",
   "metadata": {},
   "outputs": [
    {
     "data": {
      "text/plain": [
       "1.0"
      ]
     },
     "execution_count": 264,
     "metadata": {},
     "output_type": "execute_result"
    }
   ],
   "source": [
    "intensity.max()"
   ]
  },
  {
   "cell_type": "code",
   "execution_count": 265,
   "id": "f0b79b52",
   "metadata": {},
   "outputs": [
    {
     "data": {
      "text/plain": [
       "0.36719453738942387"
      ]
     },
     "execution_count": 265,
     "metadata": {},
     "output_type": "execute_result"
    }
   ],
   "source": [
    "saturation.mean()"
   ]
  },
  {
   "cell_type": "code",
   "execution_count": null,
   "id": "b7b30c3f",
   "metadata": {},
   "outputs": [],
   "source": []
  }
 ],
 "metadata": {
  "kernelspec": {
   "display_name": "Python 3",
   "language": "python",
   "name": "python3"
  },
  "language_info": {
   "codemirror_mode": {
    "name": "ipython",
    "version": 3
   },
   "file_extension": ".py",
   "mimetype": "text/x-python",
   "name": "python",
   "nbconvert_exporter": "python",
   "pygments_lexer": "ipython3",
   "version": "3.6.13"
  }
 },
 "nbformat": 4,
 "nbformat_minor": 5
}
