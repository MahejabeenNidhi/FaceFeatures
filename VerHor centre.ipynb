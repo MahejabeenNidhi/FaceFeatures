{
 "cells": [
  {
   "cell_type": "code",
   "execution_count": 1,
   "id": "f23b4268",
   "metadata": {},
   "outputs": [],
   "source": [
    "import asyncio\n",
    "import io\n",
    "import glob\n",
    "import os\n",
    "import sys\n",
    "import time\n",
    "import uuid\n",
    "import requests\n",
    "from urllib.parse import urlparse\n",
    "from io import BytesIO\n",
    "# To install this module, run:\n",
    "# python -m pip install Pillow\n",
    "from PIL import Image, ImageDraw\n",
    "from azure.cognitiveservices.vision.face import FaceClient\n",
    "from msrest.authentication import CognitiveServicesCredentials\n",
    "from azure.cognitiveservices.vision.face.models import TrainingStatusType, Person\n",
    "from azure.cognitiveservices.vision.face.models import FaceAttributeType"
   ]
  },
  {
   "cell_type": "code",
   "execution_count": 2,
   "id": "1bb0a4e1",
   "metadata": {},
   "outputs": [],
   "source": [
    "#Retrive from Face Resource - Resource Management\n",
    "KEY = \"1ab3848ea22649299da961e8feb813a4\"\n",
    "ENDPOINT = \"https://face-rec-app.cognitiveservices.azure.com/\""
   ]
  },
  {
   "cell_type": "code",
   "execution_count": 3,
   "id": "4266f023",
   "metadata": {},
   "outputs": [],
   "source": [
    "# Create an authenticated FaceClient.\n",
    "face_client = FaceClient(ENDPOINT, CognitiveServicesCredentials(KEY))"
   ]
  },
  {
   "cell_type": "code",
   "execution_count": 4,
   "id": "b44d2a97",
   "metadata": {},
   "outputs": [],
   "source": [
    "'''\n",
    "Detect face(s) with attributes in a URL image\n",
    "'''\n",
    "# Image of face(s)\n",
    "face1_url = 'https://upload.wikimedia.org/wikipedia/commons/f/f2/Kristofer_Hivju_%28Cropped%2C_2015%29.jpg'\n",
    "face1_name = os.path.basename(face1_url)\n",
    "\n",
    "# List of url images\n",
    "url_images = [face1_url]"
   ]
  },
  {
   "cell_type": "code",
   "execution_count": 5,
   "id": "91ce41ab",
   "metadata": {},
   "outputs": [],
   "source": [
    "# Attributes you want returned with the API call, a list of FaceAttributeType enum (string format)\n",
    "face_attributes = ['headPose', 'glasses', 'occlusion', 'blur', 'exposure', 'noise']"
   ]
  },
  {
   "cell_type": "code",
   "execution_count": 6,
   "id": "6fc153f6",
   "metadata": {},
   "outputs": [],
   "source": [
    "# Detect a face with attributes, returns a list[DetectedFace]\n",
    "for image in url_images:\n",
    "    detected_faces = face_client.face.detect_with_url(url=image, return_face_attributes=face_attributes)\n",
    "    if not detected_faces:\n",
    "        raise Exception(\n",
    "            'No face detected from image {}'.format(os.path.basename(image)))"
   ]
  },
  {
   "cell_type": "code",
   "execution_count": 7,
   "id": "b69abb29",
   "metadata": {},
   "outputs": [
    {
     "name": "stdout",
     "output_type": "stream",
     "text": [
      "\n",
      "Detected face ID from Kristofer_Hivju_%28Cropped%2C_2015%29.jpg :\n",
      "8383822b-15ff-4bbe-ade9-f65eb328227b\n",
      "\n",
      "Facial attributes detected:\n",
      "Head pose:  {'additional_properties': {}, 'roll': -9.4, 'yaw': 8.9, 'pitch': 12.7}\n",
      "Glasses:  GlassesType.no_glasses\n",
      "Occlusion: \n",
      "\teye_occluded:  False\n",
      "\tforehead_occluded:  False\n",
      "Blur:  {'additional_properties': {}, 'blur_level': <BlurLevel.low: 'Low'>, 'value': 0.24}\n",
      "Exposure:  {'additional_properties': {}, 'exposure_level': <ExposureLevel.over_exposure: 'OverExposure'>, 'value': 0.75}\n",
      "Noise:  {'additional_properties': {}, 'noise_level': <NoiseLevel.medium: 'Medium'>, 'value': 0.38}\n",
      "\n"
     ]
    }
   ],
   "source": [
    "    '''\n",
    "    Display the detected face with attributes and bounding box\n",
    "    '''\n",
    "    # Face IDs are used for comparison to faces (their IDs) detected in other images.\n",
    "    for face in detected_faces:\n",
    "        print()\n",
    "        print('Detected face ID from', os.path.basename(image), ':')\n",
    "        # ID of detected face\n",
    "        print(face.face_id)\n",
    "        # Show all facial attributes from the results\n",
    "        print()\n",
    "        print('Facial attributes detected:')\n",
    "        print('Head pose: ', face.face_attributes.head_pose)\n",
    "        print('Glasses: ', face.face_attributes.glasses)\n",
    "        print('Occlusion: ')\n",
    "        print('\\teye_occluded: ', face.face_attributes.occlusion.eye_occluded)\n",
    "        print('\\tforehead_occluded: ', face.face_attributes.occlusion.forehead_occluded)\n",
    "        print('Blur: ', face.face_attributes.blur)\n",
    "        print('Exposure: ', face.face_attributes.exposure)\n",
    "        print('Noise: ', face.face_attributes.noise)\n",
    "        print()\n"
   ]
  },
  {
   "cell_type": "code",
   "execution_count": 8,
   "id": "5b33bcad",
   "metadata": {},
   "outputs": [],
   "source": [
    "    # Convert width height to a point in a rectangle\n",
    "    def getRectangle(faceDictionary):\n",
    "        rect = faceDictionary.face_rectangle\n",
    "        left = rect.left\n",
    "        top = rect.top\n",
    "        right = left + rect.width\n",
    "        bottom = top + rect.height\n",
    "\n",
    "        return ((left, top), (right, bottom))"
   ]
  },
  {
   "cell_type": "code",
   "execution_count": 9,
   "id": "816145f9",
   "metadata": {},
   "outputs": [],
   "source": [
    "    # Download the image from the url, so can display it in popup/browser\n",
    "    response = requests.get(image)\n",
    "    img = Image.open(BytesIO(response.content))"
   ]
  },
  {
   "cell_type": "code",
   "execution_count": 10,
   "id": "5dec688c",
   "metadata": {},
   "outputs": [
    {
     "name": "stdout",
     "output_type": "stream",
     "text": [
      "Drawing rectangle around face... see popup for results.\n",
      "\n"
     ]
    }
   ],
   "source": [
    "    # For each face returned use the face rectangle and draw a red box.\n",
    "    print('Drawing rectangle around face... see popup for results.')\n",
    "    print()\n",
    "    draw = ImageDraw.Draw(img)\n",
    "    for face in detected_faces:\n",
    "        draw.rectangle(getRectangle(face), outline='red')"
   ]
  },
  {
   "cell_type": "code",
   "execution_count": 11,
   "id": "ae3112b8",
   "metadata": {},
   "outputs": [],
   "source": [
    "    # Display the image in the users default image browser.\n",
    "    img.show()"
   ]
  },
  {
   "cell_type": "code",
   "execution_count": 12,
   "id": "235b1d6f",
   "metadata": {},
   "outputs": [
    {
     "name": "stdout",
     "output_type": "stream",
     "text": [
      "{'additional_properties': {}, 'roll': -9.4, 'yaw': 8.9, 'pitch': 12.7}\n"
     ]
    }
   ],
   "source": [
    "# Extract the head_pose data \n",
    "\n",
    "print(face.face_attributes.head_pose)"
   ]
  },
  {
   "cell_type": "code",
   "execution_count": 13,
   "id": "5d835ae6",
   "metadata": {},
   "outputs": [
    {
     "name": "stdout",
     "output_type": "stream",
     "text": [
      "Width = 250\tHeight = 600\n"
     ]
    }
   ],
   "source": [
    "# Use rectangles to see if face is centred \n",
    "w,h=img.size    # w=Width and h=Height\n",
    "print(\"Width =\",w,end=\"\\t\")\n",
    "print(\"Height =\",h)"
   ]
  },
  {
   "cell_type": "code",
   "execution_count": 14,
   "id": "3b16998f",
   "metadata": {},
   "outputs": [],
   "source": [
    "    def RectCentre(faceDictionary, img):\n",
    "        rect = faceDictionary.face_rectangle\n",
    "        w,h=img.size\n",
    "        left = rect.left\n",
    "        top = rect.top\n",
    "        right = left + rect.width\n",
    "        bottom = top + rect.height\n",
    "        rightspace = w - right\n",
    "        bottomspace = h - bottom\n",
    "        \n",
    "        if left != rightspace: \n",
    "            print('Face is not horizontally centred')\n",
    "            \n",
    "        if top != bottomspace:\n",
    "            print('Face is not vertically centred')\n",
    "        "
   ]
  },
  {
   "cell_type": "code",
   "execution_count": 15,
   "id": "f4de5dca",
   "metadata": {},
   "outputs": [
    {
     "name": "stdout",
     "output_type": "stream",
     "text": [
      "Face is not horizontally centred\n",
      "Face is not vertically centred\n"
     ]
    }
   ],
   "source": [
    "RectCentre(face, img)"
   ]
  },
  {
   "cell_type": "code",
   "execution_count": null,
   "id": "5f65e66b",
   "metadata": {},
   "outputs": [],
   "source": []
  },
  {
   "cell_type": "code",
   "execution_count": null,
   "id": "a275cc58",
   "metadata": {},
   "outputs": [],
   "source": []
  }
 ],
 "metadata": {
  "kernelspec": {
   "display_name": "Python 3",
   "language": "python",
   "name": "python3"
  },
  "language_info": {
   "codemirror_mode": {
    "name": "ipython",
    "version": 3
   },
   "file_extension": ".py",
   "mimetype": "text/x-python",
   "name": "python",
   "nbconvert_exporter": "python",
   "pygments_lexer": "ipython3",
   "version": "3.9.5"
  }
 },
 "nbformat": 4,
 "nbformat_minor": 5
}
