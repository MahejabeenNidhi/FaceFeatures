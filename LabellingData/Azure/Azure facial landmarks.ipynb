{
 "cells": [
  {
   "cell_type": "code",
   "execution_count": 59,
   "id": "f23b4268",
   "metadata": {},
   "outputs": [],
   "source": [
    "import asyncio\n",
    "import io\n",
    "import glob\n",
    "import os\n",
    "import sys\n",
    "import time\n",
    "import uuid\n",
    "import requests\n",
    "import numpy as np\n",
    "import pandas as pd\n",
    "from urllib.parse import urlparse\n",
    "from io import BytesIO\n",
    "from PIL import Image, ImageDraw\n",
    "from azure.cognitiveservices.vision.face import FaceClient\n",
    "from msrest.authentication import CognitiveServicesCredentials\n",
    "from azure.cognitiveservices.vision.face.models import TrainingStatusType, Person\n",
    "from azure.cognitiveservices.vision.face.models import FaceAttributeType"
   ]
  },
  {
   "cell_type": "code",
   "execution_count": 60,
   "id": "f264bf6d",
   "metadata": {},
   "outputs": [],
   "source": [
    "#import vision API \n",
    "from azure.cognitiveservices.vision.computervision import ComputerVisionClient\n",
    "from azure.cognitiveservices.vision.computervision.models import OperationStatusCodes\n",
    "from azure.cognitiveservices.vision.computervision.models import VisualFeatureTypes\n",
    "from msrest.authentication import CognitiveServicesCredentials\n",
    "\n",
    "from array import array"
   ]
  },
  {
   "cell_type": "code",
   "execution_count": 61,
   "id": "6eb75e73",
   "metadata": {},
   "outputs": [],
   "source": [
    "#import packages for OpenCV\n",
    "%matplotlib inline\n",
    "\n",
    "from pylab import *\n",
    "import cv2 as cv"
   ]
  },
  {
   "cell_type": "code",
   "execution_count": 111,
   "id": "227bee15",
   "metadata": {},
   "outputs": [],
   "source": [
    "img = cv.imread('img_3378.jpg')"
   ]
  },
  {
   "cell_type": "code",
   "execution_count": 112,
   "id": "7bfd5094",
   "metadata": {},
   "outputs": [],
   "source": [
    "image = cv.imencode('.jpg', img)[1].tobytes()"
   ]
  },
  {
   "cell_type": "code",
   "execution_count": 113,
   "id": "28b0f108",
   "metadata": {},
   "outputs": [],
   "source": [
    "# Attributes you want returned with the API call, a list of FaceAttributeType enum (string format)\n",
    "face_attributes = ['headPose', 'glasses', 'occlusion', 'blur', 'exposure', 'noise']"
   ]
  },
  {
   "cell_type": "code",
   "execution_count": 114,
   "id": "1bb0a4e1",
   "metadata": {},
   "outputs": [],
   "source": [
    "#Retrive from Face Resource - Resource Management\n",
    "faceKEY = \"70b80a2b05ae42d5ac4083f66dc946a7\"\n",
    "faceENDPOINT = \"https://faciallandmark.cognitiveservices.azure.com/\""
   ]
  },
  {
   "cell_type": "code",
   "execution_count": 115,
   "id": "4266f023",
   "metadata": {},
   "outputs": [],
   "source": [
    "# Create an authenticated FaceClient.\n",
    "face_client = FaceClient(faceENDPOINT, CognitiveServicesCredentials(faceKEY))"
   ]
  },
  {
   "cell_type": "code",
   "execution_count": 116,
   "id": "5e7bdf34",
   "metadata": {},
   "outputs": [],
   "source": [
    "face_api_url = \"https://eastasia.api.cognitive.microsoft.com/face/v1.0/detect\""
   ]
  },
  {
   "cell_type": "code",
   "execution_count": 117,
   "id": "570b6e34",
   "metadata": {},
   "outputs": [],
   "source": [
    "headers = {'Content-Type': 'application/octet-stream', 'Ocp-Apim-Subscription-Key': faceKEY}"
   ]
  },
  {
   "cell_type": "code",
   "execution_count": 118,
   "id": "2e7104cb",
   "metadata": {},
   "outputs": [],
   "source": [
    "params = {'returnFaceId': 'true', 'returnFaceLandmarks': 'true'}"
   ]
  },
  {
   "cell_type": "code",
   "execution_count": 119,
   "id": "ca0a13b8",
   "metadata": {},
   "outputs": [],
   "source": [
    "response = requests.post(face_api_url, params=params, headers=headers, data=image)"
   ]
  },
  {
   "cell_type": "code",
   "execution_count": 120,
   "id": "c40db7d9",
   "metadata": {},
   "outputs": [],
   "source": [
    "response.raise_for_status()"
   ]
  },
  {
   "cell_type": "code",
   "execution_count": 121,
   "id": "9ba26342",
   "metadata": {},
   "outputs": [],
   "source": [
    "faces = response.json()"
   ]
  },
  {
   "cell_type": "code",
   "execution_count": 122,
   "id": "d9483891",
   "metadata": {},
   "outputs": [
    {
     "name": "stdout",
     "output_type": "stream",
     "text": [
      "[{'faceId': '7fb196c5-52dd-44ff-9b6e-f28dbcd027b2', 'faceRectangle': {'top': 134, 'left': 96, 'width': 241, 'height': 241}, 'faceLandmarks': {'pupilLeft': {'x': 188.1, 'y': 183.8}, 'pupilRight': {'x': 266.6, 'y': 201.8}, 'noseTip': {'x': 221.4, 'y': 253.4}, 'mouthLeft': {'x': 167.2, 'y': 314.3}, 'mouthRight': {'x': 239.4, 'y': 331.6}, 'eyebrowLeftOuter': {'x': 154.5, 'y': 151.6}, 'eyebrowLeftInner': {'x': 213.9, 'y': 158.7}, 'eyeLeftOuter': {'x': 174.1, 'y': 185.6}, 'eyeLeftTop': {'x': 187.4, 'y': 177.8}, 'eyeLeftBottom': {'x': 188.3, 'y': 190.1}, 'eyeLeftInner': {'x': 201.0, 'y': 188.0}, 'eyebrowRightInner': {'x': 257.1, 'y': 168.5}, 'eyebrowRightOuter': {'x': 303.5, 'y': 193.2}, 'eyeRightInner': {'x': 255.6, 'y': 198.3}, 'eyeRightTop': {'x': 269.0, 'y': 196.4}, 'eyeRightBottom': {'x': 266.4, 'y': 206.9}, 'eyeRightOuter': {'x': 278.0, 'y': 208.3}, 'noseRootLeft': {'x': 213.3, 'y': 191.0}, 'noseRootRight': {'x': 238.6, 'y': 198.0}, 'noseLeftAlarTop': {'x': 199.8, 'y': 227.6}, 'noseRightAlarTop': {'x': 243.0, 'y': 238.4}, 'noseLeftAlarOutTip': {'x': 187.3, 'y': 249.4}, 'noseRightAlarOutTip': {'x': 249.9, 'y': 263.3}, 'upperLipTop': {'x': 210.8, 'y': 296.1}, 'upperLipBottom': {'x': 208.4, 'y': 311.0}, 'underLipTop': {'x': 207.1, 'y': 327.5}, 'underLipBottom': {'x': 204.3, 'y': 349.7}}}]\n"
     ]
    }
   ],
   "source": [
    "print(faces)"
   ]
  },
  {
   "cell_type": "code",
   "execution_count": 110,
   "id": "15379396",
   "metadata": {},
   "outputs": [],
   "source": [
    "for face in faces:\n",
    "    flm = face['faceLandmarks']\n",
    "    pupilLeft = flm['pupilLeft']\n",
    "    pupilRight = flm['pupilRight']\n",
    "    noseTip = flm['noseTip']\n",
    "    mouthLeft = flm['mouthLeft']\n",
    "    mouthRight = flm['mouthRight']\n",
    "    eyebrowLeftOuter = flm['eyebrowLeftOuter']\n",
    "    eyebrowLeftInner = flm['eyebrowLeftInner']\n",
    "    eyeLeftInner = flm['eyeLeftInner']\n",
    "    eyeLeftTop = flm['eyeLeftTop']\n",
    "    eyeLeftBottom = flm['eyeLeftBottom']\n",
    "    eyeLeftOuter = flm['eyeLeftOuter']\n",
    "    eyebrowRightOuter = flm['eyebrowRightOuter']\n",
    "    eyebrowRightInner = flm['eyebrowRightInner']\n",
    "    eyeRightInner = flm['eyeRightInner']\n",
    "    eyeRightTop = flm['eyeRightTop']\n",
    "    eyeRightBottom = flm['eyeRightBottom']\n",
    "    eyeRightOuter = flm['eyeRightOuter']\n",
    "    noseRootLeft = flm['noseRootLeft']\n",
    "    noseRootRight = flm['noseRootRight']\n",
    "    noseLeftAlarTop = flm['noseLeftAlarTop']\n",
    "    noseRightAlarTop = flm['noseRightAlarTop']\n",
    "    noseLeftAlarOutTip = flm['noseLeftAlarOutTip']\n",
    "    noseRightAlarOutTip = flm['noseRightAlarOutTip']\n",
    "    upperLipTop = flm['upperLipTop']\n",
    "    upperLipBottom = flm['upperLipBottom']\n",
    "    underLipTop = flm['underLipTop']\n",
    "    underLipBottom = flm['underLipBottom']"
   ]
  },
  {
   "cell_type": "code",
   "execution_count": null,
   "id": "9067c272",
   "metadata": {},
   "outputs": [],
   "source": []
  },
  {
   "cell_type": "code",
   "execution_count": null,
   "id": "e0d5c82f",
   "metadata": {},
   "outputs": [],
   "source": []
  }
 ],
 "metadata": {
  "kernelspec": {
   "display_name": "Python 3",
   "language": "python",
   "name": "python3"
  },
  "language_info": {
   "codemirror_mode": {
    "name": "ipython",
    "version": 3
   },
   "file_extension": ".py",
   "mimetype": "text/x-python",
   "name": "python",
   "nbconvert_exporter": "python",
   "pygments_lexer": "ipython3",
   "version": "3.9.5"
  }
 },
 "nbformat": 4,
 "nbformat_minor": 5
}
