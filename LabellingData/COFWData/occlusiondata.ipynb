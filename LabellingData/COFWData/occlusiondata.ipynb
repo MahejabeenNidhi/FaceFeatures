{
 "cells": [
  {
   "cell_type": "code",
   "execution_count": 1,
   "id": "e6e3128c",
   "metadata": {},
   "outputs": [],
   "source": [
    "import pandas as pd\n",
    "import numpy as np\n",
    "import os\n",
    "import sys\n",
    "import glob\n",
    "from shutil import copyfile"
   ]
  },
  {
   "cell_type": "code",
   "execution_count": 2,
   "id": "8dbbcbb4",
   "metadata": {},
   "outputs": [],
   "source": [
    "data = pd.read_csv('traintest.csv', header=None)"
   ]
  },
  {
   "cell_type": "code",
   "execution_count": 3,
   "id": "7fe13f2a",
   "metadata": {},
   "outputs": [],
   "source": [
    "colnames = ['img', 'notoccluded', 'lefteyebrow', 'lefteye', 'righteyebrow', 'righteye']"
   ]
  },
  {
   "cell_type": "code",
   "execution_count": 4,
   "id": "b30ea3cf",
   "metadata": {},
   "outputs": [],
   "source": [
    "data.columns = colnames"
   ]
  },
  {
   "cell_type": "code",
   "execution_count": 5,
   "id": "0ff31e7f",
   "metadata": {},
   "outputs": [
    {
     "data": {
      "text/html": [
       "<div>\n",
       "<style scoped>\n",
       "    .dataframe tbody tr th:only-of-type {\n",
       "        vertical-align: middle;\n",
       "    }\n",
       "\n",
       "    .dataframe tbody tr th {\n",
       "        vertical-align: top;\n",
       "    }\n",
       "\n",
       "    .dataframe thead th {\n",
       "        text-align: right;\n",
       "    }\n",
       "</style>\n",
       "<table border=\"1\" class=\"dataframe\">\n",
       "  <thead>\n",
       "    <tr style=\"text-align: right;\">\n",
       "      <th></th>\n",
       "      <th>img</th>\n",
       "      <th>notoccluded</th>\n",
       "      <th>lefteyebrow</th>\n",
       "      <th>lefteye</th>\n",
       "      <th>righteyebrow</th>\n",
       "      <th>righteye</th>\n",
       "    </tr>\n",
       "  </thead>\n",
       "  <tbody>\n",
       "    <tr>\n",
       "      <th>0</th>\n",
       "      <td>C:\\Users\\nidhimh\\Documents\\Occlusion\\train\\1.jpg</td>\n",
       "      <td>1</td>\n",
       "      <td>0</td>\n",
       "      <td>0</td>\n",
       "      <td>0</td>\n",
       "      <td>0</td>\n",
       "    </tr>\n",
       "    <tr>\n",
       "      <th>1</th>\n",
       "      <td>C:\\Users\\nidhimh\\Documents\\Occlusion\\train\\2.jpg</td>\n",
       "      <td>1</td>\n",
       "      <td>0</td>\n",
       "      <td>0</td>\n",
       "      <td>0</td>\n",
       "      <td>0</td>\n",
       "    </tr>\n",
       "    <tr>\n",
       "      <th>2</th>\n",
       "      <td>C:\\Users\\nidhimh\\Documents\\Occlusion\\train\\3.jpg</td>\n",
       "      <td>1</td>\n",
       "      <td>0</td>\n",
       "      <td>0</td>\n",
       "      <td>0</td>\n",
       "      <td>0</td>\n",
       "    </tr>\n",
       "    <tr>\n",
       "      <th>3</th>\n",
       "      <td>C:\\Users\\nidhimh\\Documents\\Occlusion\\train\\4.jpg</td>\n",
       "      <td>1</td>\n",
       "      <td>0</td>\n",
       "      <td>0</td>\n",
       "      <td>0</td>\n",
       "      <td>0</td>\n",
       "    </tr>\n",
       "    <tr>\n",
       "      <th>4</th>\n",
       "      <td>C:\\Users\\nidhimh\\Documents\\Occlusion\\train\\5.jpg</td>\n",
       "      <td>1</td>\n",
       "      <td>0</td>\n",
       "      <td>0</td>\n",
       "      <td>0</td>\n",
       "      <td>0</td>\n",
       "    </tr>\n",
       "    <tr>\n",
       "      <th>...</th>\n",
       "      <td>...</td>\n",
       "      <td>...</td>\n",
       "      <td>...</td>\n",
       "      <td>...</td>\n",
       "      <td>...</td>\n",
       "      <td>...</td>\n",
       "    </tr>\n",
       "    <tr>\n",
       "      <th>1847</th>\n",
       "      <td>C:\\Users\\nidhimh\\Documents\\Occlusion\\val\\503.jpg</td>\n",
       "      <td>0</td>\n",
       "      <td>1</td>\n",
       "      <td>0</td>\n",
       "      <td>1</td>\n",
       "      <td>0</td>\n",
       "    </tr>\n",
       "    <tr>\n",
       "      <th>1848</th>\n",
       "      <td>C:\\Users\\nidhimh\\Documents\\Occlusion\\val\\504.jpg</td>\n",
       "      <td>0</td>\n",
       "      <td>1</td>\n",
       "      <td>1</td>\n",
       "      <td>1</td>\n",
       "      <td>0</td>\n",
       "    </tr>\n",
       "    <tr>\n",
       "      <th>1849</th>\n",
       "      <td>C:\\Users\\nidhimh\\Documents\\Occlusion\\val\\505.jpg</td>\n",
       "      <td>1</td>\n",
       "      <td>0</td>\n",
       "      <td>0</td>\n",
       "      <td>0</td>\n",
       "      <td>0</td>\n",
       "    </tr>\n",
       "    <tr>\n",
       "      <th>1850</th>\n",
       "      <td>C:\\Users\\nidhimh\\Documents\\Occlusion\\val\\506.jpg</td>\n",
       "      <td>0</td>\n",
       "      <td>1</td>\n",
       "      <td>1</td>\n",
       "      <td>0</td>\n",
       "      <td>0</td>\n",
       "    </tr>\n",
       "    <tr>\n",
       "      <th>1851</th>\n",
       "      <td>C:\\Users\\nidhimh\\Documents\\Occlusion\\val\\507.jpg</td>\n",
       "      <td>0</td>\n",
       "      <td>1</td>\n",
       "      <td>1</td>\n",
       "      <td>0</td>\n",
       "      <td>0</td>\n",
       "    </tr>\n",
       "  </tbody>\n",
       "</table>\n",
       "<p>1852 rows × 6 columns</p>\n",
       "</div>"
      ],
      "text/plain": [
       "                                                   img  notoccluded  \\\n",
       "0     C:\\Users\\nidhimh\\Documents\\Occlusion\\train\\1.jpg            1   \n",
       "1     C:\\Users\\nidhimh\\Documents\\Occlusion\\train\\2.jpg            1   \n",
       "2     C:\\Users\\nidhimh\\Documents\\Occlusion\\train\\3.jpg            1   \n",
       "3     C:\\Users\\nidhimh\\Documents\\Occlusion\\train\\4.jpg            1   \n",
       "4     C:\\Users\\nidhimh\\Documents\\Occlusion\\train\\5.jpg            1   \n",
       "...                                                ...          ...   \n",
       "1847  C:\\Users\\nidhimh\\Documents\\Occlusion\\val\\503.jpg            0   \n",
       "1848  C:\\Users\\nidhimh\\Documents\\Occlusion\\val\\504.jpg            0   \n",
       "1849  C:\\Users\\nidhimh\\Documents\\Occlusion\\val\\505.jpg            1   \n",
       "1850  C:\\Users\\nidhimh\\Documents\\Occlusion\\val\\506.jpg            0   \n",
       "1851  C:\\Users\\nidhimh\\Documents\\Occlusion\\val\\507.jpg            0   \n",
       "\n",
       "      lefteyebrow  lefteye  righteyebrow  righteye  \n",
       "0               0        0             0         0  \n",
       "1               0        0             0         0  \n",
       "2               0        0             0         0  \n",
       "3               0        0             0         0  \n",
       "4               0        0             0         0  \n",
       "...           ...      ...           ...       ...  \n",
       "1847            1        0             1         0  \n",
       "1848            1        1             1         0  \n",
       "1849            0        0             0         0  \n",
       "1850            1        1             0         0  \n",
       "1851            1        1             0         0  \n",
       "\n",
       "[1852 rows x 6 columns]"
      ]
     },
     "execution_count": 5,
     "metadata": {},
     "output_type": "execute_result"
    }
   ],
   "source": [
    "data"
   ]
  },
  {
   "cell_type": "code",
   "execution_count": 6,
   "id": "6fb50a58",
   "metadata": {},
   "outputs": [],
   "source": [
    "occluded = data[data['notoccluded'] == 0]"
   ]
  },
  {
   "cell_type": "code",
   "execution_count": 7,
   "id": "e4a17bbb",
   "metadata": {},
   "outputs": [],
   "source": [
    "occluded.to_csv('occluded.csv')"
   ]
  },
  {
   "cell_type": "code",
   "execution_count": 8,
   "id": "100f4117",
   "metadata": {},
   "outputs": [],
   "source": [
    "notoccluded = data[data['notoccluded'] == 1]"
   ]
  },
  {
   "cell_type": "code",
   "execution_count": 9,
   "id": "4c604669",
   "metadata": {},
   "outputs": [],
   "source": [
    "notoccluded.to_csv('notoccluded.csv')"
   ]
  },
  {
   "cell_type": "code",
   "execution_count": 10,
   "id": "bdaea31f",
   "metadata": {},
   "outputs": [],
   "source": [
    "leftbrowoccluded = data[data['lefteyebrow'] == 1]"
   ]
  },
  {
   "cell_type": "code",
   "execution_count": 11,
   "id": "a95b642d",
   "metadata": {},
   "outputs": [],
   "source": [
    "leftbrowNOToccluded = data[data['lefteyebrow'] == 0]"
   ]
  },
  {
   "cell_type": "code",
   "execution_count": 12,
   "id": "a1b1bdc2",
   "metadata": {},
   "outputs": [],
   "source": [
    "lefteyeoccluded = data[data['lefteye'] == 1]"
   ]
  },
  {
   "cell_type": "code",
   "execution_count": 13,
   "id": "4fa578ef",
   "metadata": {},
   "outputs": [],
   "source": [
    "lefteyeNOToccluded = data[data['lefteye'] == 0]"
   ]
  },
  {
   "cell_type": "code",
   "execution_count": 15,
   "id": "9d36ad7a",
   "metadata": {},
   "outputs": [],
   "source": [
    "rightbrowoccluded = data[data['righteyebrow'] == 1]"
   ]
  },
  {
   "cell_type": "code",
   "execution_count": 16,
   "id": "241bea84",
   "metadata": {},
   "outputs": [],
   "source": [
    "rightbrowNOToccluded = data[data['righteyebrow'] == 0]"
   ]
  },
  {
   "cell_type": "code",
   "execution_count": 17,
   "id": "02740fb6",
   "metadata": {},
   "outputs": [],
   "source": [
    "righteyeoccluded = data[data['righteye'] == 1]"
   ]
  },
  {
   "cell_type": "code",
   "execution_count": 18,
   "id": "20d13f74",
   "metadata": {},
   "outputs": [
    {
     "data": {
      "text/html": [
       "<div>\n",
       "<style scoped>\n",
       "    .dataframe tbody tr th:only-of-type {\n",
       "        vertical-align: middle;\n",
       "    }\n",
       "\n",
       "    .dataframe tbody tr th {\n",
       "        vertical-align: top;\n",
       "    }\n",
       "\n",
       "    .dataframe thead th {\n",
       "        text-align: right;\n",
       "    }\n",
       "</style>\n",
       "<table border=\"1\" class=\"dataframe\">\n",
       "  <thead>\n",
       "    <tr style=\"text-align: right;\">\n",
       "      <th></th>\n",
       "      <th>img</th>\n",
       "      <th>notoccluded</th>\n",
       "      <th>lefteyebrow</th>\n",
       "      <th>lefteye</th>\n",
       "      <th>righteyebrow</th>\n",
       "      <th>righteye</th>\n",
       "    </tr>\n",
       "  </thead>\n",
       "  <tbody>\n",
       "  </tbody>\n",
       "</table>\n",
       "</div>"
      ],
      "text/plain": [
       "Empty DataFrame\n",
       "Columns: [img, notoccluded, lefteyebrow, lefteye, righteyebrow, righteye]\n",
       "Index: []"
      ]
     },
     "execution_count": 18,
     "metadata": {},
     "output_type": "execute_result"
    }
   ],
   "source": [
    "righteyeoccluded"
   ]
  },
  {
   "cell_type": "code",
   "execution_count": 19,
   "id": "669e921f",
   "metadata": {},
   "outputs": [],
   "source": [
    "righteyeNOToccluded = data[data['righteye'] == 0]"
   ]
  },
  {
   "cell_type": "code",
   "execution_count": 20,
   "id": "79516fc3",
   "metadata": {},
   "outputs": [],
   "source": [
    "frames = [leftbrowoccluded, rightbrowoccluded]"
   ]
  },
  {
   "cell_type": "code",
   "execution_count": 21,
   "id": "6c67267d",
   "metadata": {},
   "outputs": [],
   "source": [
    "browoccluded = pd.concat(frames)"
   ]
  },
  {
   "cell_type": "code",
   "execution_count": 22,
   "id": "a7ce9ba5",
   "metadata": {},
   "outputs": [],
   "source": [
    "frames = [lefteyeoccluded, righteyeoccluded]"
   ]
  },
  {
   "cell_type": "code",
   "execution_count": 23,
   "id": "198e32f7",
   "metadata": {},
   "outputs": [],
   "source": [
    "eyeoccluded = pd.concat(frames)"
   ]
  },
  {
   "cell_type": "code",
   "execution_count": 84,
   "id": "ddb594e2",
   "metadata": {},
   "outputs": [],
   "source": [
    "for line in notoccluded['img']:\n",
    "    image_source = line\n",
    "    name = os.path.basename(line)\n",
    "    trainorval = line[37:40]\n",
    "    filename = trainorval + name\n",
    "    out_folder = 'C:\\\\Users\\\\nidhimh\\\\Documents\\\\Occlusion\\\\fuckingaround\\\\notoccluded'\n",
    "    destination = os.path.join(out_folder, filename)\n",
    "    copyfile(image_source, destination)"
   ]
  },
  {
   "cell_type": "code",
   "execution_count": 67,
   "id": "eab8d475",
   "metadata": {},
   "outputs": [],
   "source": []
  },
  {
   "cell_type": "code",
   "execution_count": null,
   "id": "84af6dcb",
   "metadata": {},
   "outputs": [],
   "source": []
  }
 ],
 "metadata": {
  "kernelspec": {
   "display_name": "Python 3",
   "language": "python",
   "name": "python3"
  },
  "language_info": {
   "codemirror_mode": {
    "name": "ipython",
    "version": 3
   },
   "file_extension": ".py",
   "mimetype": "text/x-python",
   "name": "python",
   "nbconvert_exporter": "python",
   "pygments_lexer": "ipython3",
   "version": "3.6.13"
  }
 },
 "nbformat": 4,
 "nbformat_minor": 5
}
