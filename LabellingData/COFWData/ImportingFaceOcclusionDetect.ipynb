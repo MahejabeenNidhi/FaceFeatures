{
 "cells": [
  {
   "cell_type": "code",
   "execution_count": 1,
   "id": "ff1c13eb",
   "metadata": {},
   "outputs": [
    {
     "name": "stderr",
     "output_type": "stream",
     "text": [
      "C:\\Users\\nidhimh\\Anaconda3\\envs\\Tensor150\\lib\\site-packages\\tensorflow\\python\\framework\\dtypes.py:493: FutureWarning: Passing (type, 1) or '1type' as a synonym of type is deprecated; in a future version of numpy, it will be understood as (type, (1,)) / '(1,)type'.\n",
      "  _np_qint8 = np.dtype([(\"qint8\", np.int8, 1)])\n",
      "C:\\Users\\nidhimh\\Anaconda3\\envs\\Tensor150\\lib\\site-packages\\tensorflow\\python\\framework\\dtypes.py:494: FutureWarning: Passing (type, 1) or '1type' as a synonym of type is deprecated; in a future version of numpy, it will be understood as (type, (1,)) / '(1,)type'.\n",
      "  _np_quint8 = np.dtype([(\"quint8\", np.uint8, 1)])\n",
      "C:\\Users\\nidhimh\\Anaconda3\\envs\\Tensor150\\lib\\site-packages\\tensorflow\\python\\framework\\dtypes.py:495: FutureWarning: Passing (type, 1) or '1type' as a synonym of type is deprecated; in a future version of numpy, it will be understood as (type, (1,)) / '(1,)type'.\n",
      "  _np_qint16 = np.dtype([(\"qint16\", np.int16, 1)])\n",
      "C:\\Users\\nidhimh\\Anaconda3\\envs\\Tensor150\\lib\\site-packages\\tensorflow\\python\\framework\\dtypes.py:496: FutureWarning: Passing (type, 1) or '1type' as a synonym of type is deprecated; in a future version of numpy, it will be understood as (type, (1,)) / '(1,)type'.\n",
      "  _np_quint16 = np.dtype([(\"quint16\", np.uint16, 1)])\n",
      "C:\\Users\\nidhimh\\Anaconda3\\envs\\Tensor150\\lib\\site-packages\\tensorflow\\python\\framework\\dtypes.py:497: FutureWarning: Passing (type, 1) or '1type' as a synonym of type is deprecated; in a future version of numpy, it will be understood as (type, (1,)) / '(1,)type'.\n",
      "  _np_qint32 = np.dtype([(\"qint32\", np.int32, 1)])\n",
      "C:\\Users\\nidhimh\\Anaconda3\\envs\\Tensor150\\lib\\site-packages\\tensorflow\\python\\framework\\dtypes.py:502: FutureWarning: Passing (type, 1) or '1type' as a synonym of type is deprecated; in a future version of numpy, it will be understood as (type, (1,)) / '(1,)type'.\n",
      "  np_resource = np.dtype([(\"resource\", np.ubyte, 1)])\n"
     ]
    }
   ],
   "source": [
    "import h5py\n",
    "import numpy as np\n",
    "import cv2\n",
    "import random\n",
    "import os\n",
    "import sys\n",
    "import math\n",
    "import shutil\n",
    "import argparse\n",
    "import tensorflow as tf\n",
    "import heapq"
   ]
  },
  {
   "cell_type": "code",
   "execution_count": 13,
   "id": "3be7be95",
   "metadata": {},
   "outputs": [],
   "source": [
    "# Root directory of the Occlusion project\n",
    "ROOT_DIR = os.path.abspath(\"C:\\\\Users\\\\nidhimh\\\\Documents\\\\Occlusion\\\\Face-Occlusion-Detect-master\")"
   ]
  },
  {
   "cell_type": "code",
   "execution_count": 14,
   "id": "702cb7d8",
   "metadata": {},
   "outputs": [],
   "source": [
    "# Import Face Occlusion Detect\n",
    "sys.path.append(ROOT_DIR)\n",
    "import datasets\n",
    "import models\n",
    "import prepare_data_cofw"
   ]
  },
  {
   "cell_type": "code",
   "execution_count": 15,
   "id": "4f3f6ebb",
   "metadata": {},
   "outputs": [],
   "source": [
    "from prepare_data_cofw import mat_to_files"
   ]
  },
  {
   "cell_type": "code",
   "execution_count": 20,
   "id": "c6b8b8e3",
   "metadata": {},
   "outputs": [],
   "source": [
    "test_dir = \"C:\\\\Users\\\\nidhimh\\\\Documents\\\\Occlusion\\\\val\\\\\""
   ]
  },
  {
   "cell_type": "code",
   "execution_count": 21,
   "id": "aa15f79b",
   "metadata": {},
   "outputs": [],
   "source": [
    "mat_to_files('COFW_test_color.mat', 'IsT', 'bboxesT', 'phisT', test_dir, 'gtTest.txt')"
   ]
  },
  {
   "cell_type": "code",
   "execution_count": 22,
   "id": "97a2d99f",
   "metadata": {},
   "outputs": [],
   "source": [
    "from prepare_data_cofw import face_label"
   ]
  },
  {
   "cell_type": "code",
   "execution_count": 23,
   "id": "58e90021",
   "metadata": {},
   "outputs": [],
   "source": [
    "face_label('gtTest.txt', test_dir, 'face_test_txt.txt', show=False)"
   ]
  },
  {
   "cell_type": "code",
   "execution_count": null,
   "id": "b200b84e",
   "metadata": {},
   "outputs": [],
   "source": []
  }
 ],
 "metadata": {
  "kernelspec": {
   "display_name": "Python 3",
   "language": "python",
   "name": "python3"
  },
  "language_info": {
   "codemirror_mode": {
    "name": "ipython",
    "version": 3
   },
   "file_extension": ".py",
   "mimetype": "text/x-python",
   "name": "python",
   "nbconvert_exporter": "python",
   "pygments_lexer": "ipython3",
   "version": "3.6.13"
  }
 },
 "nbformat": 4,
 "nbformat_minor": 5
}
