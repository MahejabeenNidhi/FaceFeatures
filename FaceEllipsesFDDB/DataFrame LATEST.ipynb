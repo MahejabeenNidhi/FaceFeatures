{
 "cells": [
  {
   "cell_type": "code",
   "execution_count": 1,
   "id": "f6545235",
   "metadata": {},
   "outputs": [],
   "source": [
    "import os\n",
    "import json\n",
    "from fnmatch import fnmatch\n",
    "from math import pi\n",
    "import pandas as pd\n",
    "import cv2 as cv\n",
    "import argparse\n",
    "import sys\n",
    "from itertools import permutations\n",
    "from pycocotools.coco import COCO\n",
    "from pycocotools.cocoeval import COCOeval"
   ]
  },
  {
   "cell_type": "code",
   "execution_count": 2,
   "id": "784bc94c",
   "metadata": {},
   "outputs": [],
   "source": [
    "def fddb_dataset(annotations):\n",
    "    with open(annotations) as f:\n",
    "        imgPath = [] \n",
    "        rad_x = []\n",
    "        rad_y = []\n",
    "        angle = []\n",
    "        center_x = []\n",
    "        center_y = []\n",
    "        detection_score = []\n",
    "        lineId = 0\n",
    "        lines = f.readlines()\n",
    "        while lineId < len(lines):\n",
    "            Path = lines[lineId]\n",
    "            lineId += 1\n",
    "            # Faces\n",
    "            numFaces = int(lines[lineId])\n",
    "            for i in range(numFaces):\n",
    "                lineId += 1\n",
    "                params = [float(v) for v in lines[lineId].split()]\n",
    "                radx, rady, ang, centerx, centery, score = params\n",
    "                imgPath.append(Path) \n",
    "                rad_x.append(radx)\n",
    "                rad_y.append(rady)\n",
    "                angle.append(ang)\n",
    "                center_x.append(centerx)\n",
    "                center_y.append(centery)\n",
    "                detection_score.append(score)\n",
    "                \n",
    "            lineId += 1\n",
    "        data = pd.DataFrame(\n",
    "                {'imgPath': imgPath,\n",
    "                 'rad_x': rad_x,\n",
    "                 'rad_y': rad_y,\n",
    "                 'angle': angle,\n",
    "                 'center_x': center_x,\n",
    "                 'center_y': center_y,\n",
    "                })\n",
    "            \n",
    "        return data"
   ]
  },
  {
   "cell_type": "code",
   "execution_count": 3,
   "id": "ee75d448",
   "metadata": {},
   "outputs": [],
   "source": [
    "data = fddb_dataset(\"C:\\\\Users\\\\nidhimh\\\\Downloads\\\\FDDB-folds\\\\FDDB-fold-01-ellipseList.txt\")"
   ]
  },
  {
   "cell_type": "code",
   "execution_count": 13,
   "id": "d9df80d4",
   "metadata": {},
   "outputs": [
    {
     "data": {
      "text/html": [
       "<div>\n",
       "<style scoped>\n",
       "    .dataframe tbody tr th:only-of-type {\n",
       "        vertical-align: middle;\n",
       "    }\n",
       "\n",
       "    .dataframe tbody tr th {\n",
       "        vertical-align: top;\n",
       "    }\n",
       "\n",
       "    .dataframe thead th {\n",
       "        text-align: right;\n",
       "    }\n",
       "</style>\n",
       "<table border=\"1\" class=\"dataframe\">\n",
       "  <thead>\n",
       "    <tr style=\"text-align: right;\">\n",
       "      <th></th>\n",
       "      <th>imgPath</th>\n",
       "      <th>rad_x</th>\n",
       "      <th>rad_y</th>\n",
       "      <th>angle</th>\n",
       "      <th>center_x</th>\n",
       "      <th>center_y</th>\n",
       "    </tr>\n",
       "  </thead>\n",
       "  <tbody>\n",
       "    <tr>\n",
       "      <th>0</th>\n",
       "      <td>2002/08/11/big/img_591\\n</td>\n",
       "      <td>123.583300</td>\n",
       "      <td>85.549500</td>\n",
       "      <td>1.265839</td>\n",
       "      <td>269.693400</td>\n",
       "      <td>161.781200</td>\n",
       "    </tr>\n",
       "    <tr>\n",
       "      <th>1</th>\n",
       "      <td>2002/08/26/big/img_265\\n</td>\n",
       "      <td>67.363819</td>\n",
       "      <td>44.511485</td>\n",
       "      <td>-1.476417</td>\n",
       "      <td>105.249970</td>\n",
       "      <td>87.209036</td>\n",
       "    </tr>\n",
       "    <tr>\n",
       "      <th>2</th>\n",
       "      <td>2002/08/26/big/img_265\\n</td>\n",
       "      <td>41.936870</td>\n",
       "      <td>27.064477</td>\n",
       "      <td>1.471906</td>\n",
       "      <td>184.070915</td>\n",
       "      <td>129.345601</td>\n",
       "    </tr>\n",
       "    <tr>\n",
       "      <th>3</th>\n",
       "      <td>2002/08/26/big/img_265\\n</td>\n",
       "      <td>70.993052</td>\n",
       "      <td>43.355200</td>\n",
       "      <td>1.370217</td>\n",
       "      <td>340.894300</td>\n",
       "      <td>117.498951</td>\n",
       "    </tr>\n",
       "    <tr>\n",
       "      <th>4</th>\n",
       "      <td>2002/07/19/big/img_423\\n</td>\n",
       "      <td>87.080955</td>\n",
       "      <td>59.379319</td>\n",
       "      <td>1.550861</td>\n",
       "      <td>255.383099</td>\n",
       "      <td>133.767857</td>\n",
       "    </tr>\n",
       "    <tr>\n",
       "      <th>...</th>\n",
       "      <td>...</td>\n",
       "      <td>...</td>\n",
       "      <td>...</td>\n",
       "      <td>...</td>\n",
       "      <td>...</td>\n",
       "      <td>...</td>\n",
       "    </tr>\n",
       "    <tr>\n",
       "      <th>510</th>\n",
       "      <td>2002/07/29/big/img_889\\n</td>\n",
       "      <td>58.056741</td>\n",
       "      <td>41.854608</td>\n",
       "      <td>1.280160</td>\n",
       "      <td>198.496421</td>\n",
       "      <td>86.716075</td>\n",
       "    </tr>\n",
       "    <tr>\n",
       "      <th>511</th>\n",
       "      <td>2002/08/18/big/img_188\\n</td>\n",
       "      <td>67.995400</td>\n",
       "      <td>38.216200</td>\n",
       "      <td>-1.559920</td>\n",
       "      <td>208.966471</td>\n",
       "      <td>109.764400</td>\n",
       "    </tr>\n",
       "    <tr>\n",
       "      <th>512</th>\n",
       "      <td>2002/08/07/big/img_1453\\n</td>\n",
       "      <td>58.887348</td>\n",
       "      <td>37.286244</td>\n",
       "      <td>1.441974</td>\n",
       "      <td>88.083450</td>\n",
       "      <td>78.409537</td>\n",
       "    </tr>\n",
       "    <tr>\n",
       "      <th>513</th>\n",
       "      <td>2002/08/07/big/img_1453\\n</td>\n",
       "      <td>60.381076</td>\n",
       "      <td>40.303691</td>\n",
       "      <td>1.377522</td>\n",
       "      <td>260.502940</td>\n",
       "      <td>102.769525</td>\n",
       "    </tr>\n",
       "    <tr>\n",
       "      <th>514</th>\n",
       "      <td>2002/08/02/big/img_760\\n</td>\n",
       "      <td>134.444208</td>\n",
       "      <td>92.088647</td>\n",
       "      <td>-1.507610</td>\n",
       "      <td>148.215574</td>\n",
       "      <td>160.035024</td>\n",
       "    </tr>\n",
       "  </tbody>\n",
       "</table>\n",
       "<p>515 rows × 6 columns</p>\n",
       "</div>"
      ],
      "text/plain": [
       "                       imgPath       rad_x      rad_y     angle    center_x  \\\n",
       "0     2002/08/11/big/img_591\\n  123.583300  85.549500  1.265839  269.693400   \n",
       "1     2002/08/26/big/img_265\\n   67.363819  44.511485 -1.476417  105.249970   \n",
       "2     2002/08/26/big/img_265\\n   41.936870  27.064477  1.471906  184.070915   \n",
       "3     2002/08/26/big/img_265\\n   70.993052  43.355200  1.370217  340.894300   \n",
       "4     2002/07/19/big/img_423\\n   87.080955  59.379319  1.550861  255.383099   \n",
       "..                         ...         ...        ...       ...         ...   \n",
       "510   2002/07/29/big/img_889\\n   58.056741  41.854608  1.280160  198.496421   \n",
       "511   2002/08/18/big/img_188\\n   67.995400  38.216200 -1.559920  208.966471   \n",
       "512  2002/08/07/big/img_1453\\n   58.887348  37.286244  1.441974   88.083450   \n",
       "513  2002/08/07/big/img_1453\\n   60.381076  40.303691  1.377522  260.502940   \n",
       "514   2002/08/02/big/img_760\\n  134.444208  92.088647 -1.507610  148.215574   \n",
       "\n",
       "       center_y  \n",
       "0    161.781200  \n",
       "1     87.209036  \n",
       "2    129.345601  \n",
       "3    117.498951  \n",
       "4    133.767857  \n",
       "..          ...  \n",
       "510   86.716075  \n",
       "511  109.764400  \n",
       "512   78.409537  \n",
       "513  102.769525  \n",
       "514  160.035024  \n",
       "\n",
       "[515 rows x 6 columns]"
      ]
     },
     "execution_count": 13,
     "metadata": {},
     "output_type": "execute_result"
    }
   ],
   "source": [
    "data"
   ]
  },
  {
   "cell_type": "code",
   "execution_count": 25,
   "id": "8f235340",
   "metadata": {},
   "outputs": [],
   "source": [
    "sub = data[data['imgPath'] == '2002/08/26/big/img_265\\n']"
   ]
  },
  {
   "cell_type": "code",
   "execution_count": 26,
   "id": "5b3e567f",
   "metadata": {},
   "outputs": [],
   "source": [
    "sub = sub.iloc[:, 1:]"
   ]
  },
  {
   "cell_type": "code",
   "execution_count": 27,
   "id": "ea30564a",
   "metadata": {},
   "outputs": [
    {
     "data": {
      "text/html": [
       "<div>\n",
       "<style scoped>\n",
       "    .dataframe tbody tr th:only-of-type {\n",
       "        vertical-align: middle;\n",
       "    }\n",
       "\n",
       "    .dataframe tbody tr th {\n",
       "        vertical-align: top;\n",
       "    }\n",
       "\n",
       "    .dataframe thead th {\n",
       "        text-align: right;\n",
       "    }\n",
       "</style>\n",
       "<table border=\"1\" class=\"dataframe\">\n",
       "  <thead>\n",
       "    <tr style=\"text-align: right;\">\n",
       "      <th></th>\n",
       "      <th>rad_x</th>\n",
       "      <th>rad_y</th>\n",
       "      <th>angle</th>\n",
       "      <th>center_x</th>\n",
       "      <th>center_y</th>\n",
       "    </tr>\n",
       "  </thead>\n",
       "  <tbody>\n",
       "    <tr>\n",
       "      <th>1</th>\n",
       "      <td>67.363819</td>\n",
       "      <td>44.511485</td>\n",
       "      <td>-1.476417</td>\n",
       "      <td>105.249970</td>\n",
       "      <td>87.209036</td>\n",
       "    </tr>\n",
       "    <tr>\n",
       "      <th>2</th>\n",
       "      <td>41.936870</td>\n",
       "      <td>27.064477</td>\n",
       "      <td>1.471906</td>\n",
       "      <td>184.070915</td>\n",
       "      <td>129.345601</td>\n",
       "    </tr>\n",
       "    <tr>\n",
       "      <th>3</th>\n",
       "      <td>70.993052</td>\n",
       "      <td>43.355200</td>\n",
       "      <td>1.370217</td>\n",
       "      <td>340.894300</td>\n",
       "      <td>117.498951</td>\n",
       "    </tr>\n",
       "  </tbody>\n",
       "</table>\n",
       "</div>"
      ],
      "text/plain": [
       "       rad_x      rad_y     angle    center_x    center_y\n",
       "1  67.363819  44.511485 -1.476417  105.249970   87.209036\n",
       "2  41.936870  27.064477  1.471906  184.070915  129.345601\n",
       "3  70.993052  43.355200  1.370217  340.894300  117.498951"
      ]
     },
     "execution_count": 27,
     "metadata": {},
     "output_type": "execute_result"
    }
   ],
   "source": [
    "sub"
   ]
  },
  {
   "cell_type": "code",
   "execution_count": 28,
   "id": "eaafa249",
   "metadata": {},
   "outputs": [
    {
     "data": {
      "text/plain": [
       "3"
      ]
     },
     "execution_count": 28,
     "metadata": {},
     "output_type": "execute_result"
    }
   ],
   "source": [
    "len(sub)"
   ]
  },
  {
   "cell_type": "code",
   "execution_count": 29,
   "id": "0dd244e0",
   "metadata": {},
   "outputs": [],
   "source": [
    "list = sub.values.tolist()"
   ]
  },
  {
   "cell_type": "code",
   "execution_count": 18,
   "id": "08901308",
   "metadata": {},
   "outputs": [
    {
     "data": {
      "text/plain": [
       "[['2002/08/26/big/img_265\\n',\n",
       "  67.363819,\n",
       "  44.511485,\n",
       "  -1.476417,\n",
       "  105.24997,\n",
       "  87.209036],\n",
       " ['2002/08/26/big/img_265\\n',\n",
       "  41.93687,\n",
       "  27.064477,\n",
       "  1.471906,\n",
       "  184.070915,\n",
       "  129.345601],\n",
       " ['2002/08/26/big/img_265\\n',\n",
       "  70.993052,\n",
       "  43.3552,\n",
       "  1.370217,\n",
       "  340.8943,\n",
       "  117.498951]]"
      ]
     },
     "execution_count": 18,
     "metadata": {},
     "output_type": "execute_result"
    }
   ],
   "source": [
    "list"
   ]
  },
  {
   "cell_type": "code",
   "execution_count": 30,
   "id": "e537682a",
   "metadata": {},
   "outputs": [
    {
     "data": {
      "text/plain": [
       "3"
      ]
     },
     "execution_count": 30,
     "metadata": {},
     "output_type": "execute_result"
    }
   ],
   "source": [
    "len(list)"
   ]
  },
  {
   "cell_type": "code",
   "execution_count": 31,
   "id": "d028514d",
   "metadata": {},
   "outputs": [],
   "source": [
    "dict = {'imgPath': '2002/08/26/big/img_265\\n', 'parameters': list}"
   ]
  },
  {
   "cell_type": "code",
   "execution_count": 32,
   "id": "3f0a827a",
   "metadata": {},
   "outputs": [
    {
     "data": {
      "text/plain": [
       "{'imgPath': '2002/08/26/big/img_265\\n',\n",
       " 'parameters': [[67.363819, 44.511485, -1.476417, 105.24997, 87.209036],\n",
       "  [41.93687, 27.064477, 1.471906, 184.070915, 129.345601],\n",
       "  [70.993052, 43.3552, 1.370217, 340.8943, 117.498951]]}"
      ]
     },
     "execution_count": 32,
     "metadata": {},
     "output_type": "execute_result"
    }
   ],
   "source": [
    "dict"
   ]
  },
  {
   "cell_type": "code",
   "execution_count": 34,
   "id": "268b605c",
   "metadata": {},
   "outputs": [
    {
     "data": {
      "text/plain": [
       "3"
      ]
     },
     "execution_count": 34,
     "metadata": {},
     "output_type": "execute_result"
    }
   ],
   "source": [
    "len(dict['parameters'])"
   ]
  },
  {
   "cell_type": "code",
   "execution_count": 12,
   "id": "4fbadbd1",
   "metadata": {},
   "outputs": [
    {
     "data": {
      "text/html": [
       "<div>\n",
       "<style scoped>\n",
       "    .dataframe tbody tr th:only-of-type {\n",
       "        vertical-align: middle;\n",
       "    }\n",
       "\n",
       "    .dataframe tbody tr th {\n",
       "        vertical-align: top;\n",
       "    }\n",
       "\n",
       "    .dataframe thead th {\n",
       "        text-align: right;\n",
       "    }\n",
       "</style>\n",
       "<table border=\"1\" class=\"dataframe\">\n",
       "  <thead>\n",
       "    <tr style=\"text-align: right;\">\n",
       "      <th></th>\n",
       "      <th>imgPath</th>\n",
       "      <th>rad_x</th>\n",
       "      <th>rad_y</th>\n",
       "      <th>angle</th>\n",
       "      <th>center_x</th>\n",
       "      <th>center_y</th>\n",
       "    </tr>\n",
       "  </thead>\n",
       "  <tbody>\n",
       "    <tr>\n",
       "      <th>1</th>\n",
       "      <td>2002/08/26/big/img_265\\n</td>\n",
       "      <td>67.363819</td>\n",
       "      <td>44.511485</td>\n",
       "      <td>-1.476417</td>\n",
       "      <td>105.24997</td>\n",
       "      <td>87.209036</td>\n",
       "    </tr>\n",
       "  </tbody>\n",
       "</table>\n",
       "</div>"
      ],
      "text/plain": [
       "                    imgPath      rad_x      rad_y     angle   center_x  \\\n",
       "1  2002/08/26/big/img_265\\n  67.363819  44.511485 -1.476417  105.24997   \n",
       "\n",
       "    center_y  \n",
       "1  87.209036  "
      ]
     },
     "execution_count": 12,
     "metadata": {},
     "output_type": "execute_result"
    }
   ],
   "source": []
  },
  {
   "cell_type": "code",
   "execution_count": null,
   "id": "98ddd8cf",
   "metadata": {},
   "outputs": [],
   "source": []
  }
 ],
 "metadata": {
  "kernelspec": {
   "display_name": "Python 3",
   "language": "python",
   "name": "python3"
  },
  "language_info": {
   "codemirror_mode": {
    "name": "ipython",
    "version": 3
   },
   "file_extension": ".py",
   "mimetype": "text/x-python",
   "name": "python",
   "nbconvert_exporter": "python",
   "pygments_lexer": "ipython3",
   "version": "3.7.10"
  }
 },
 "nbformat": 4,
 "nbformat_minor": 5
}
